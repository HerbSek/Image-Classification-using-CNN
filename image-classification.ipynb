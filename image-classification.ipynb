{
 "cells": [
  {
   "cell_type": "code",
   "execution_count": 10,
   "id": "36d7628f-0d8f-44dd-95e1-4862f020b210",
   "metadata": {},
   "outputs": [
    {
     "name": "stdout",
     "output_type": "stream",
     "text": [
      "Using matplotlib backend: tkagg\n"
     ]
    }
   ],
   "source": [
    "%matplotlib \n",
    "import numpy as np\n",
    "import pandas as pd\n",
    "from matplotlib import pyplot as plt \n",
    "from PIL import Image\n",
    "import torch \n",
    "from torchvision import datasets, transforms\n",
    "from torch.utils.data import DataLoader, Dataset\n",
    "import os"
   ]
  },
  {
   "cell_type": "code",
   "execution_count": 5,
   "id": "26850ca6-32e4-45b7-ac37-48f0a46bffec",
   "metadata": {},
   "outputs": [],
   "source": [
    "transform = transforms.Compose(\n",
    "    [\n",
    "        transforms.Resize((240,240)),\n",
    "        transforms.ToTensor(),\n",
    "        transforms.Normalize(mean=(0.5,0.5,0.5), std = (0.5,0.5,0.5))\n",
    "    ]\n",
    ")\n"
   ]
  },
  {
   "cell_type": "code",
   "execution_count": 6,
   "id": "227cd325-d290-4a43-9b9c-9d9dabf67362",
   "metadata": {},
   "outputs": [],
   "source": [
    "root_dir = r\"C:\\Users\\Herbert\\OneDrive\\Desktop\\Corn Disease\\data\""
   ]
  },
  {
   "cell_type": "code",
   "execution_count": 7,
   "id": "a1c0ed1a-e38f-42c2-b54b-c69a729eb04b",
   "metadata": {},
   "outputs": [],
   "source": [
    "dataset = datasets.ImageFolder(root_dir, transforms)\n"
   ]
  },
  {
   "cell_type": "code",
   "execution_count": 8,
   "id": "667cd9f2-519b-44eb-8340-d87a51c31a62",
   "metadata": {},
   "outputs": [
    {
     "data": {
      "text/plain": [
       "['Blight', 'Common_Rust', 'Gray_Leaf_Spot', 'Healthy']"
      ]
     },
     "execution_count": 8,
     "metadata": {},
     "output_type": "execute_result"
    }
   ],
   "source": [
    "dataset.classes"
   ]
  },
  {
   "cell_type": "code",
   "execution_count": 9,
   "id": "6cc26ecf-3533-4bcf-bbbd-79b8e4be6881",
   "metadata": {},
   "outputs": [
    {
     "data": {
      "text/plain": [
       "4188"
      ]
     },
     "execution_count": 9,
     "metadata": {},
     "output_type": "execute_result"
    }
   ],
   "source": [
    "len(dataset)"
   ]
  },
  {
   "cell_type": "code",
   "execution_count": 15,
   "id": "73c67fae-2803-4278-8496-9d8e694f72ce",
   "metadata": {},
   "outputs": [
    {
     "data": {
      "text/plain": [
       "['chdir',\n",
       " 'curdir',\n",
       " 'error',\n",
       " 'listdir',\n",
       " 'mkdir',\n",
       " 'pardir',\n",
       " 'rmdir',\n",
       " 'scandir',\n",
       " 'strerror']"
      ]
     },
     "execution_count": 15,
     "metadata": {},
     "output_type": "execute_result"
    }
   ],
   "source": [
    "[x for x in dir(os) if x.endswith(\"r\")]"
   ]
  },
  {
   "cell_type": "code",
   "execution_count": 19,
   "id": "80175a00-33bb-48aa-88aa-0e04c8f2ae64",
   "metadata": {},
   "outputs": [],
   "source": [
    "my_dir = os.listdir(root_dir+\"//Blight\")"
   ]
  },
  {
   "cell_type": "code",
   "execution_count": 21,
   "id": "a580acef-cd09-4c0f-b69f-7513a203b285",
   "metadata": {},
   "outputs": [
    {
     "data": {
      "text/plain": [
       "1146"
      ]
     },
     "execution_count": 21,
     "metadata": {},
     "output_type": "execute_result"
    }
   ],
   "source": [
    "len(my_dir)"
   ]
  },
  {
   "cell_type": "code",
   "execution_count": null,
   "id": "00c3f51f-93bf-4062-a776-e7c0a120b728",
   "metadata": {},
   "outputs": [],
   "source": [
    "# Data Augmentation and balancing "
   ]
  }
 ],
 "metadata": {
  "kernelspec": {
   "display_name": "Python 3 (ipykernel)",
   "language": "python",
   "name": "python3"
  },
  "language_info": {
   "codemirror_mode": {
    "name": "ipython",
    "version": 3
   },
   "file_extension": ".py",
   "mimetype": "text/x-python",
   "name": "python",
   "nbconvert_exporter": "python",
   "pygments_lexer": "ipython3",
   "version": "3.9.13"
  }
 },
 "nbformat": 4,
 "nbformat_minor": 5
}
