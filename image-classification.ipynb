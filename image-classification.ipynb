{
 "cells": [
  {
   "cell_type": "code",
   "execution_count": 1,
   "id": "36d7628f-0d8f-44dd-95e1-4862f020b210",
   "metadata": {},
   "outputs": [
    {
     "name": "stderr",
     "output_type": "stream",
     "text": [
      "C:\\Users\\Herbert\\AppData\\Local\\Packages\\PythonSoftwareFoundation.Python.3.9_qbz5n2kfra8p0\\LocalCache\\local-packages\\Python39\\site-packages\\tqdm\\auto.py:21: TqdmWarning: IProgress not found. Please update jupyter and ipywidgets. See https://ipywidgets.readthedocs.io/en/stable/user_install.html\n",
      "  from .autonotebook import tqdm as notebook_tqdm\n"
     ]
    }
   ],
   "source": [
    "%matplotlib inline \n",
    "import numpy as np\n",
    "import pandas as pd\n",
    "import matplotlib\n",
    "from matplotlib import pyplot as plt \n",
    "from PIL import Image\n",
    "import torch \n",
    "from torchvision import datasets, transforms\n",
    "from torch.utils.data import DataLoader, Dataset, random_split \n",
    "import os"
   ]
  },
  {
   "cell_type": "code",
   "execution_count": 2,
   "id": "b81aaddf-8443-4bc6-8b74-52956e654fac",
   "metadata": {},
   "outputs": [],
   "source": [
    "train_transform = transforms.Compose(\n",
    "    [\n",
    "       transforms.Resize((224,224)),\n",
    "       transforms.RandomHorizontalFlip(p=0.5),\n",
    "       transforms.RandomGrayscale(p=0.5),\n",
    "       transforms.RandomRotation(10),\n",
    "       transforms.ToTensor(),\n",
    "       transforms.Normalize(mean=(0.5,0.5,0.5), std = (0.5,0.5,0.5))\n",
    "      \n",
    "    ]\n",
    ")"
   ]
  },
  {
   "cell_type": "code",
   "execution_count": 3,
   "id": "26850ca6-32e4-45b7-ac37-48f0a46bffec",
   "metadata": {},
   "outputs": [],
   "source": [
    "test_transform = transforms.Compose(\n",
    "    [\n",
    "        transforms.Resize((224,224)),\n",
    "        transforms.ToTensor(),\n",
    "        transforms.Normalize(mean=(0.5,0.5,0.5), std = (0.5,0.5,0.5))\n",
    "    ]\n",
    ")\n"
   ]
  },
  {
   "cell_type": "code",
   "execution_count": 33,
   "id": "227cd325-d290-4a43-9b9c-9d9dabf67362",
   "metadata": {},
   "outputs": [],
   "source": [
    "root_dir = r\"C:\\Users\\Herbert\\OneDrive\\Documents\\Eye-disease\\dataset\""
   ]
  },
  {
   "cell_type": "code",
   "execution_count": 34,
   "id": "a1c0ed1a-e38f-42c2-b54b-c69a729eb04b",
   "metadata": {},
   "outputs": [],
   "source": [
    "dataset = datasets.ImageFolder(root_dir)\n"
   ]
  },
  {
   "cell_type": "code",
   "execution_count": 35,
   "id": "667cd9f2-519b-44eb-8340-d87a51c31a62",
   "metadata": {},
   "outputs": [
    {
     "data": {
      "text/plain": [
       "['cataract', 'diabetic_retinopathy', 'glaucoma', 'normal']"
      ]
     },
     "execution_count": 35,
     "metadata": {},
     "output_type": "execute_result"
    }
   ],
   "source": [
    "dataset.classes"
   ]
  },
  {
   "cell_type": "code",
   "execution_count": 36,
   "id": "6cc26ecf-3533-4bcf-bbbd-79b8e4be6881",
   "metadata": {},
   "outputs": [
    {
     "data": {
      "text/plain": [
       "4217"
      ]
     },
     "execution_count": 36,
     "metadata": {},
     "output_type": "execute_result"
    }
   ],
   "source": [
    "len(dataset)"
   ]
  },
  {
   "cell_type": "code",
   "execution_count": 37,
   "id": "73c67fae-2803-4278-8496-9d8e694f72ce",
   "metadata": {},
   "outputs": [
    {
     "data": {
      "text/plain": [
       "['chdir',\n",
       " 'curdir',\n",
       " 'error',\n",
       " 'listdir',\n",
       " 'mkdir',\n",
       " 'pardir',\n",
       " 'rmdir',\n",
       " 'scandir',\n",
       " 'strerror']"
      ]
     },
     "execution_count": 37,
     "metadata": {},
     "output_type": "execute_result"
    }
   ],
   "source": [
    "[x for x in dir(os) if x.endswith(\"r\")]"
   ]
  },
  {
   "cell_type": "code",
   "execution_count": 42,
   "id": "80175a00-33bb-48aa-88aa-0e04c8f2ae64",
   "metadata": {},
   "outputs": [],
   "source": [
    "cataract_dir = os.listdir(root_dir+\"//cataract\")"
   ]
  },
  {
   "cell_type": "code",
   "execution_count": 43,
   "id": "4c50d805-6d7c-472c-b6f5-461543d23207",
   "metadata": {},
   "outputs": [],
   "source": [
    "diabetic_retinopathy_dir = os.listdir(root_dir+\"//diabetic_retinopathy\")"
   ]
  },
  {
   "cell_type": "code",
   "execution_count": 44,
   "id": "53281262-56f5-4af5-ba13-32b68ddb6378",
   "metadata": {},
   "outputs": [],
   "source": [
    "glaucoma_dir = os.listdir(root_dir+\"//glaucoma\")"
   ]
  },
  {
   "cell_type": "code",
   "execution_count": 45,
   "id": "3708ca2a-eae3-4ffe-8e39-9e86d5901b4d",
   "metadata": {},
   "outputs": [],
   "source": [
    "normal_dir = os.listdir(root_dir+\"//normal\")"
   ]
  },
  {
   "cell_type": "code",
   "execution_count": 47,
   "id": "a580acef-cd09-4c0f-b69f-7513a203b285",
   "metadata": {},
   "outputs": [
    {
     "data": {
      "text/plain": [
       "(1038, 1098, 1007, 1074)"
      ]
     },
     "execution_count": 47,
     "metadata": {},
     "output_type": "execute_result"
    }
   ],
   "source": [
    "len(cataract_dir) , len(diabetic_retinopathy_dir) , len(glaucoma_dir), len(normal_dir)"
   ]
  },
  {
   "cell_type": "code",
   "execution_count": 51,
   "id": "fe5fa10f-1709-4f06-a1a6-7884a9c0f03a",
   "metadata": {},
   "outputs": [],
   "source": [
    "my_dict = {\n",
    "    f\"cataract ({len(cataract_dir)})\": len(cataract_dir), \n",
    "    f\"diabetic_retinopathy ({len(diabetic_retinopathy_dir)})\": len(diabetic_retinopathy_dir),\n",
    "    f\"glaucoma ({len(glaucoma_dir)})\":  len(glaucoma_dir),\n",
    "    f\"normal ({len(normal_dir)})\": len(normal_dir),                \n",
    "}"
   ]
  },
  {
   "cell_type": "code",
   "execution_count": 52,
   "id": "80601199-ccd4-4c42-8572-418a4a4f2842",
   "metadata": {},
   "outputs": [
    {
     "data": {
      "text/plain": [
       "{'cataract (1038)': 1038,\n",
       " 'diabetic_retinopathy (1098)': 1098,\n",
       " 'glaucoma (1007)': 1007,\n",
       " 'normal (1074)': 1074}"
      ]
     },
     "execution_count": 52,
     "metadata": {},
     "output_type": "execute_result"
    }
   ],
   "source": [
    "my_dict"
   ]
  },
  {
   "cell_type": "code",
   "execution_count": 53,
   "id": "80231d40-9dd2-4ec4-99eb-4a23821313b8",
   "metadata": {},
   "outputs": [
    {
     "data": {
      "image/png": "[encoded data removed]",
      "text/plain": [
       "<Figure size 640x480 with 1 Axes>"
      ]
     },
     "metadata": {},
     "output_type": "display_data"
    }
   ],
   "source": [
    "plt.bar(my_dict.keys(), my_dict.values(), color='blue')\n",
    "plt.xlabel(\"Class\")\n",
    "plt.ylabel(\"Number of images\")\n",
    "plt.title(\"Class Distribution\")\n",
    "plt.xticks(rotation=45)  # Rotate labels for readability\n",
    "plt.show()"
   ]
  },
  {
   "cell_type": "code",
   "execution_count": 17,
   "id": "6541ae65-2fc8-428c-9e9a-090d7ba86a6c",
   "metadata": {},
   "outputs": [],
   "source": [
    "# Data seems unbalanced here"
   ]
  },
  {
   "cell_type": "code",
   "execution_count": 54,
   "id": "8c97e353-c0b5-4d53-a965-321beb2c52a0",
   "metadata": {},
   "outputs": [
    {
     "data": {
      "text/plain": [
       "4217"
      ]
     },
     "execution_count": 54,
     "metadata": {},
     "output_type": "execute_result"
    }
   ],
   "source": [
    "len(dataset)"
   ]
  },
  {
   "cell_type": "code",
   "execution_count": 55,
   "id": "c860a512-d66a-43ce-9ed4-da6d494509a3",
   "metadata": {},
   "outputs": [
    {
     "data": {
      "text/plain": [
       "3373"
      ]
     },
     "execution_count": 55,
     "metadata": {},
     "output_type": "execute_result"
    }
   ],
   "source": [
    "train_size = int(0.8 * (len(dataset)))\n",
    "train_size"
   ]
  },
  {
   "cell_type": "code",
   "execution_count": 56,
   "id": "18ecd0fc-8c53-4a16-9eb1-f0df12d4e3ce",
   "metadata": {},
   "outputs": [
    {
     "data": {
      "text/plain": [
       "844"
      ]
     },
     "execution_count": 56,
     "metadata": {},
     "output_type": "execute_result"
    }
   ],
   "source": [
    "test_size = len(dataset)-train_size\n",
    "test_size"
   ]
  },
  {
   "cell_type": "code",
   "execution_count": 57,
   "id": "9d99eaf8-3626-48e5-adaf-8dbb048ac240",
   "metadata": {},
   "outputs": [],
   "source": [
    "train_data, test_data = random_split(dataset,[train_size, test_size])\n"
   ]
  },
  {
   "cell_type": "code",
   "execution_count": 58,
   "id": "39175615-70d0-4594-9e79-7d6075df5aca",
   "metadata": {},
   "outputs": [
    {
     "data": {
      "text/plain": [
       "torch.utils.data.dataset.Subset"
      ]
     },
     "execution_count": 58,
     "metadata": {},
     "output_type": "execute_result"
    }
   ],
   "source": [
    "type(train_data)"
   ]
  },
  {
   "cell_type": "code",
   "execution_count": 23,
   "id": "6fa20a23-f018-464d-8e3f-b3aac3ab92c6",
   "metadata": {},
   "outputs": [],
   "source": [
    "# Manually applying transformations:"
   ]
  },
  {
   "cell_type": "code",
   "execution_count": 60,
   "id": "4e76f9ba-4a58-4d59-973d-c4ba5cad4cb2",
   "metadata": {},
   "outputs": [],
   "source": [
    "train_data.dataset.transform = train_transform\n",
    "test_data.dataset.transform = test_transform\n"
   ]
  },
  {
   "cell_type": "code",
   "execution_count": 61,
   "id": "b1ddb20f-b490-4238-af08-72d01c43c4c8",
   "metadata": {},
   "outputs": [],
   "source": [
    "# Create Dataloaders\n",
    "train_loader = DataLoader(train_data, batch_size = 32, shuffle = True)\n",
    "test_loader = DataLoader(test_data , batch_size = 32, shuffle = False)\n"
   ]
  },
  {
   "cell_type": "code",
   "execution_count": 62,
   "id": "52179cb8-7062-4304-a18e-708fc2727279",
   "metadata": {},
   "outputs": [
    {
     "data": {
      "text/plain": [
       "torch.utils.data.dataloader.DataLoader"
      ]
     },
     "execution_count": 62,
     "metadata": {},
     "output_type": "execute_result"
    }
   ],
   "source": [
    "type(test_loader)"
   ]
  },
  {
   "cell_type": "code",
   "execution_count": 63,
   "id": "7837394f-c363-4a90-8b69-54062fbd4de4",
   "metadata": {},
   "outputs": [],
   "source": [
    "from project.cnn import model_y"
   ]
  },
  {
   "cell_type": "code",
   "execution_count": 64,
   "id": "81414984-4ccf-429c-833b-3a9dd42c9ab6",
   "metadata": {},
   "outputs": [],
   "source": [
    "my_model = model_y()"
   ]
  },
  {
   "cell_type": "code",
   "execution_count": 65,
   "id": "4479eb36-73c1-4824-9c7f-9b9b4abeb8d5",
   "metadata": {},
   "outputs": [
    {
     "data": {
      "text/plain": [
       "model_y(\n",
       "  (full_conv): Sequential(\n",
       "    (0): Conv2d(3, 16, kernel_size=(3, 3), stride=(1, 1), padding=(1, 1))\n",
       "    (1): ReLU()\n",
       "    (2): MaxPool2d(kernel_size=2, stride=2, padding=0, dilation=1, ceil_mode=False)\n",
       "    (3): Conv2d(16, 32, kernel_size=(3, 3), stride=(1, 1), padding=(1, 1))\n",
       "    (4): ReLU()\n",
       "    (5): MaxPool2d(kernel_size=2, stride=2, padding=0, dilation=1, ceil_mode=False)\n",
       "    (6): Conv2d(32, 64, kernel_size=(3, 3), stride=(1, 1), padding=(1, 1))\n",
       "    (7): ReLU()\n",
       "    (8): MaxPool2d(kernel_size=2, stride=2, padding=0, dilation=1, ceil_mode=False)\n",
       "    (9): Linear(in_features=50176, out_features=128, bias=True)\n",
       "    (10): ReLU()\n",
       "    (11): Linear(in_features=128, out_features=20, bias=True)\n",
       "  )\n",
       ")"
      ]
     },
     "execution_count": 65,
     "metadata": {},
     "output_type": "execute_result"
    }
   ],
   "source": [
    "my_model"
   ]
  },
  {
   "cell_type": "code",
   "execution_count": null,
   "id": "471f9109-b2b0-45b8-a39d-ae8fdcbbd46e",
   "metadata": {},
   "outputs": [],
   "source": []
  }
 ],
 "metadata": {
  "kernelspec": {
   "display_name": "Python 3 (ipykernel)",
   "language": "python",
   "name": "python3"
  },
  "language_info": {
   "codemirror_mode": {
    "name": "ipython",
    "version": 3
   },
   "file_extension": ".py",
   "mimetype": "text/x-python",
   "name": "python",
   "nbconvert_exporter": "python",
   "pygments_lexer": "ipython3",
   "version": "3.9.13"
  }
 },
 "nbformat": 4,
 "nbformat_minor": 5
}
